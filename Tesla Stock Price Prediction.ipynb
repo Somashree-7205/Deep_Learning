{
 "cells": [
  {
   "cell_type": "markdown",
   "id": "228e1b14",
   "metadata": {},
   "source": [
    "# Tesla Stock Price Prediction"
   ]
  },
  {
   "cell_type": "code",
   "execution_count": 1,
   "id": "d0f67020",
   "metadata": {},
   "outputs": [],
   "source": [
    "import numpy as np\n",
    "import pandas as pd\n",
    "%matplotlib inline\n",
    "import matplotlib as mpl\n",
    "import matplotlib.pyplot as plt\n",
    "import os"
   ]
  },
  {
   "cell_type": "code",
   "execution_count": 2,
   "id": "98c683f7",
   "metadata": {},
   "outputs": [],
   "source": [
    "import tensorflow as tf\n",
    "from tensorflow import keras"
   ]
  },
  {
   "cell_type": "code",
   "execution_count": 3,
   "id": "1fb44626",
   "metadata": {},
   "outputs": [],
   "source": [
    "training_data = pd.read_csv(r'E:\\Data Analytic\\Madhu Kiran Sir\\DeepLearning\\Tesla\\TSLA training.csv')"
   ]
  },
  {
   "cell_type": "code",
   "execution_count": 4,
   "id": "8dc372aa",
   "metadata": {},
   "outputs": [
    {
     "data": {
      "text/html": [
       "<div>\n",
       "<style scoped>\n",
       "    .dataframe tbody tr th:only-of-type {\n",
       "        vertical-align: middle;\n",
       "    }\n",
       "\n",
       "    .dataframe tbody tr th {\n",
       "        vertical-align: top;\n",
       "    }\n",
       "\n",
       "    .dataframe thead th {\n",
       "        text-align: right;\n",
       "    }\n",
       "</style>\n",
       "<table border=\"1\" class=\"dataframe\">\n",
       "  <thead>\n",
       "    <tr style=\"text-align: right;\">\n",
       "      <th></th>\n",
       "      <th>Date</th>\n",
       "      <th>Open</th>\n",
       "      <th>High</th>\n",
       "      <th>Low</th>\n",
       "      <th>Close</th>\n",
       "      <th>Adj Close</th>\n",
       "      <th>Volume</th>\n",
       "    </tr>\n",
       "  </thead>\n",
       "  <tbody>\n",
       "    <tr>\n",
       "      <th>0</th>\n",
       "      <td>2018-06-22</td>\n",
       "      <td>23.436001</td>\n",
       "      <td>23.483334</td>\n",
       "      <td>22.133333</td>\n",
       "      <td>22.242001</td>\n",
       "      <td>22.242001</td>\n",
       "      <td>153991500</td>\n",
       "    </tr>\n",
       "    <tr>\n",
       "      <th>1</th>\n",
       "      <td>2018-06-25</td>\n",
       "      <td>22.007999</td>\n",
       "      <td>22.564667</td>\n",
       "      <td>21.833332</td>\n",
       "      <td>22.200666</td>\n",
       "      <td>22.200666</td>\n",
       "      <td>103969500</td>\n",
       "    </tr>\n",
       "    <tr>\n",
       "      <th>2</th>\n",
       "      <td>2018-06-26</td>\n",
       "      <td>22.403334</td>\n",
       "      <td>22.903334</td>\n",
       "      <td>21.719999</td>\n",
       "      <td>22.799999</td>\n",
       "      <td>22.799999</td>\n",
       "      <td>111787500</td>\n",
       "    </tr>\n",
       "    <tr>\n",
       "      <th>3</th>\n",
       "      <td>2018-06-27</td>\n",
       "      <td>23.000000</td>\n",
       "      <td>23.386000</td>\n",
       "      <td>22.633333</td>\n",
       "      <td>22.966667</td>\n",
       "      <td>22.966667</td>\n",
       "      <td>125005500</td>\n",
       "    </tr>\n",
       "    <tr>\n",
       "      <th>4</th>\n",
       "      <td>2018-06-28</td>\n",
       "      <td>23.243999</td>\n",
       "      <td>23.801332</td>\n",
       "      <td>23.073999</td>\n",
       "      <td>23.328667</td>\n",
       "      <td>23.328667</td>\n",
       "      <td>125970000</td>\n",
       "    </tr>\n",
       "  </tbody>\n",
       "</table>\n",
       "</div>"
      ],
      "text/plain": [
       "         Date       Open       High        Low      Close  Adj Close  \\\n",
       "0  2018-06-22  23.436001  23.483334  22.133333  22.242001  22.242001   \n",
       "1  2018-06-25  22.007999  22.564667  21.833332  22.200666  22.200666   \n",
       "2  2018-06-26  22.403334  22.903334  21.719999  22.799999  22.799999   \n",
       "3  2018-06-27  23.000000  23.386000  22.633333  22.966667  22.966667   \n",
       "4  2018-06-28  23.243999  23.801332  23.073999  23.328667  23.328667   \n",
       "\n",
       "      Volume  \n",
       "0  153991500  \n",
       "1  103969500  \n",
       "2  111787500  \n",
       "3  125005500  \n",
       "4  125970000  "
      ]
     },
     "execution_count": 4,
     "metadata": {},
     "output_type": "execute_result"
    }
   ],
   "source": [
    "training_data.head()"
   ]
  },
  {
   "cell_type": "code",
   "execution_count": 5,
   "id": "0242eda5",
   "metadata": {},
   "outputs": [
    {
     "data": {
      "text/html": [
       "<div>\n",
       "<style scoped>\n",
       "    .dataframe tbody tr th:only-of-type {\n",
       "        vertical-align: middle;\n",
       "    }\n",
       "\n",
       "    .dataframe tbody tr th {\n",
       "        vertical-align: top;\n",
       "    }\n",
       "\n",
       "    .dataframe thead th {\n",
       "        text-align: right;\n",
       "    }\n",
       "</style>\n",
       "<table border=\"1\" class=\"dataframe\">\n",
       "  <thead>\n",
       "    <tr style=\"text-align: right;\">\n",
       "      <th></th>\n",
       "      <th>Date</th>\n",
       "      <th>Open</th>\n",
       "      <th>High</th>\n",
       "      <th>Low</th>\n",
       "      <th>Close</th>\n",
       "      <th>Adj Close</th>\n",
       "      <th>Volume</th>\n",
       "    </tr>\n",
       "  </thead>\n",
       "  <tbody>\n",
       "    <tr>\n",
       "      <th>1252</th>\n",
       "      <td>2023-06-14</td>\n",
       "      <td>260.170013</td>\n",
       "      <td>261.570007</td>\n",
       "      <td>250.500000</td>\n",
       "      <td>256.790009</td>\n",
       "      <td>256.790009</td>\n",
       "      <td>170575500</td>\n",
       "    </tr>\n",
       "    <tr>\n",
       "      <th>1253</th>\n",
       "      <td>2023-06-15</td>\n",
       "      <td>248.399994</td>\n",
       "      <td>258.950012</td>\n",
       "      <td>247.289993</td>\n",
       "      <td>255.899994</td>\n",
       "      <td>255.899994</td>\n",
       "      <td>160171200</td>\n",
       "    </tr>\n",
       "    <tr>\n",
       "      <th>1254</th>\n",
       "      <td>2023-06-16</td>\n",
       "      <td>258.920013</td>\n",
       "      <td>263.600006</td>\n",
       "      <td>257.209991</td>\n",
       "      <td>260.540009</td>\n",
       "      <td>260.540009</td>\n",
       "      <td>167563700</td>\n",
       "    </tr>\n",
       "    <tr>\n",
       "      <th>1255</th>\n",
       "      <td>2023-06-20</td>\n",
       "      <td>261.500000</td>\n",
       "      <td>274.750000</td>\n",
       "      <td>261.119995</td>\n",
       "      <td>274.450012</td>\n",
       "      <td>274.450012</td>\n",
       "      <td>165611200</td>\n",
       "    </tr>\n",
       "    <tr>\n",
       "      <th>1256</th>\n",
       "      <td>2023-06-21</td>\n",
       "      <td>275.130005</td>\n",
       "      <td>276.989990</td>\n",
       "      <td>257.779999</td>\n",
       "      <td>259.459991</td>\n",
       "      <td>259.459991</td>\n",
       "      <td>210937500</td>\n",
       "    </tr>\n",
       "  </tbody>\n",
       "</table>\n",
       "</div>"
      ],
      "text/plain": [
       "            Date        Open        High         Low       Close   Adj Close  \\\n",
       "1252  2023-06-14  260.170013  261.570007  250.500000  256.790009  256.790009   \n",
       "1253  2023-06-15  248.399994  258.950012  247.289993  255.899994  255.899994   \n",
       "1254  2023-06-16  258.920013  263.600006  257.209991  260.540009  260.540009   \n",
       "1255  2023-06-20  261.500000  274.750000  261.119995  274.450012  274.450012   \n",
       "1256  2023-06-21  275.130005  276.989990  257.779999  259.459991  259.459991   \n",
       "\n",
       "         Volume  \n",
       "1252  170575500  \n",
       "1253  160171200  \n",
       "1254  167563700  \n",
       "1255  165611200  \n",
       "1256  210937500  "
      ]
     },
     "execution_count": 5,
     "metadata": {},
     "output_type": "execute_result"
    }
   ],
   "source": [
    "training_data.tail()"
   ]
  },
  {
   "cell_type": "code",
   "execution_count": 6,
   "id": "1c1c1cc5",
   "metadata": {},
   "outputs": [
    {
     "data": {
      "text/plain": [
       "(1257, 7)"
      ]
     },
     "execution_count": 6,
     "metadata": {},
     "output_type": "execute_result"
    }
   ],
   "source": [
    "training_data.shape"
   ]
  },
  {
   "cell_type": "code",
   "execution_count": 7,
   "id": "6e99a1d2",
   "metadata": {},
   "outputs": [
    {
     "name": "stdout",
     "output_type": "stream",
     "text": [
      "<class 'pandas.core.frame.DataFrame'>\n",
      "RangeIndex: 1257 entries, 0 to 1256\n",
      "Data columns (total 7 columns):\n",
      " #   Column     Non-Null Count  Dtype  \n",
      "---  ------     --------------  -----  \n",
      " 0   Date       1257 non-null   object \n",
      " 1   Open       1257 non-null   float64\n",
      " 2   High       1257 non-null   float64\n",
      " 3   Low        1257 non-null   float64\n",
      " 4   Close      1257 non-null   float64\n",
      " 5   Adj Close  1257 non-null   float64\n",
      " 6   Volume     1257 non-null   int64  \n",
      "dtypes: float64(5), int64(1), object(1)\n",
      "memory usage: 68.9+ KB\n"
     ]
    }
   ],
   "source": [
    "training_data.info()"
   ]
  },
  {
   "cell_type": "code",
   "execution_count": 8,
   "id": "9643d2cc",
   "metadata": {},
   "outputs": [],
   "source": [
    "training_set = training_data.iloc[:, 1:2].values"
   ]
  },
  {
   "cell_type": "code",
   "execution_count": 9,
   "id": "5ca06ac8",
   "metadata": {},
   "outputs": [
    {
     "data": {
      "text/plain": [
       "((1257, 1), (1257, 7))"
      ]
     },
     "execution_count": 9,
     "metadata": {},
     "output_type": "execute_result"
    }
   ],
   "source": [
    "training_set.shape, training_data.shape"
   ]
  },
  {
   "cell_type": "code",
   "execution_count": 11,
   "id": "09aad894",
   "metadata": {},
   "outputs": [],
   "source": [
    "# feature scaling\n",
    "from sklearn.preprocessing import MinMaxScaler\n",
    "sc = MinMaxScaler(feature_range=(0,1))\n",
    "training_set_scaled = sc.fit_transform(training_set)"
   ]
  },
  {
   "cell_type": "code",
   "execution_count": 12,
   "id": "2e95ea86",
   "metadata": {},
   "outputs": [
    {
     "data": {
      "text/plain": [
       "array([[0.02844958],\n",
       "       [0.02487418],\n",
       "       [0.02586401],\n",
       "       ...,\n",
       "       [0.61804892],\n",
       "       [0.62450863],\n",
       "       [0.65863512]])"
      ]
     },
     "execution_count": 12,
     "metadata": {},
     "output_type": "execute_result"
    }
   ],
   "source": [
    "training_set_scaled"
   ]
  },
  {
   "cell_type": "code",
   "execution_count": 13,
   "id": "b6b58d73",
   "metadata": {},
   "outputs": [],
   "source": [
    "# Creating a data structure with 60 timesteps and 1 output\n",
    "x_train = []\n",
    "y_train = []\n",
    "\n",
    "for i in range(60, 1257):\n",
    "  x_train.append(training_set_scaled[i-60:i, 0])\n",
    "  y_train.append(training_set_scaled[i, 0])\n",
    "\n",
    "# converting x_train and y_train into numpy array\n",
    "x_train, y_train = np.array(x_train), np.array(y_train)"
   ]
  },
  {
   "cell_type": "code",
   "execution_count": 14,
   "id": "0ab2a70e",
   "metadata": {},
   "outputs": [
    {
     "data": {
      "text/plain": [
       "array([[0.02844958, 0.02487418, 0.02586401, ..., 0.01784692, 0.01797044,\n",
       "        0.0181841 ],\n",
       "       [0.02487418, 0.02586401, 0.02735793, ..., 0.01797044, 0.0181841 ,\n",
       "        0.0192941 ],\n",
       "       [0.02586401, 0.02735793, 0.02796885, ..., 0.0181841 , 0.0192941 ,\n",
       "        0.01659336],\n",
       "       ...,\n",
       "       [0.46877374, 0.45865846, 0.44961983, ..., 0.60450345, 0.62117864,\n",
       "        0.59170915],\n",
       "       [0.45865846, 0.44961983, 0.4565553 , ..., 0.62117864, 0.59170915,\n",
       "        0.61804892],\n",
       "       [0.44961983, 0.4565553 , 0.45049616, ..., 0.59170915, 0.61804892,\n",
       "        0.62450863]])"
      ]
     },
     "execution_count": 14,
     "metadata": {},
     "output_type": "execute_result"
    }
   ],
   "source": [
    "x_train"
   ]
  },
  {
   "cell_type": "code",
   "execution_count": 16,
   "id": "0ef6e95d",
   "metadata": {},
   "outputs": [
    {
     "data": {
      "text/plain": [
       "array([0.0192941 , 0.01659336, 0.02044083, ..., 0.61804892, 0.62450863,\n",
       "       0.65863512])"
      ]
     },
     "execution_count": 16,
     "metadata": {},
     "output_type": "execute_result"
    }
   ],
   "source": [
    "y_train"
   ]
  },
  {
   "cell_type": "code",
   "execution_count": 17,
   "id": "a1afb6e9",
   "metadata": {},
   "outputs": [
    {
     "data": {
      "text/plain": [
       "(1197, 60)"
      ]
     },
     "execution_count": 17,
     "metadata": {},
     "output_type": "execute_result"
    }
   ],
   "source": [
    "x_train.shape"
   ]
  },
  {
   "cell_type": "code",
   "execution_count": 18,
   "id": "13718f60",
   "metadata": {},
   "outputs": [],
   "source": [
    "# reshaping dataset\n",
    "x_train = x_train.reshape(1197, 60, 1)"
   ]
  },
  {
   "cell_type": "code",
   "execution_count": 19,
   "id": "dbdd77dd",
   "metadata": {},
   "outputs": [
    {
     "data": {
      "text/plain": [
       "(1197, 60, 1)"
      ]
     },
     "execution_count": 19,
     "metadata": {},
     "output_type": "execute_result"
    }
   ],
   "source": [
    "x_train.shape"
   ]
  },
  {
   "cell_type": "markdown",
   "id": "a105fbea",
   "metadata": {},
   "source": [
    "## Building LSTM"
   ]
  },
  {
   "cell_type": "code",
   "execution_count": 20,
   "id": "ec73938d",
   "metadata": {},
   "outputs": [],
   "source": [
    "# define an object (inilitizing RNN)\n",
    "model = tf.keras.models.Sequential()"
   ]
  },
  {
   "cell_type": "code",
   "execution_count": 21,
   "id": "6b4821bc",
   "metadata": {},
   "outputs": [],
   "source": [
    "# first LSTM layer\n",
    "model.add(tf.keras.layers.LSTM(units=60, activation='relu', return_sequences=True, input_shape=(60,1)))\n",
    "# dropout layer\n",
    "model.add(tf.keras.layers.Dropout(0.2))\n",
    "\n",
    "# second LSTM layer\n",
    "model.add(tf.keras.layers.LSTM(units=60, activation='relu', return_sequences=True))\n",
    "# dropout layer\n",
    "model.add(tf.keras.layers.Dropout(0.2))\n",
    "\n",
    "# third LSTM layer\n",
    "model.add(tf.keras.layers.LSTM(units=80, activation='relu', return_sequences=True))\n",
    "# dropout layer\n",
    "model.add(tf.keras.layers.Dropout(0.2))\n",
    "\n",
    "# fourth LSTM layer\n",
    "model.add(tf.keras.layers.LSTM(units=120, activation='relu'))\n",
    "# dropout layer\n",
    "model.add(tf.keras.layers.Dropout(0.2))"
   ]
  },
  {
   "cell_type": "code",
   "execution_count": 22,
   "id": "94c2e6c5",
   "metadata": {},
   "outputs": [],
   "source": [
    "# output layer\n",
    "model.add(tf.keras.layers.Dense(units=1))"
   ]
  },
  {
   "cell_type": "code",
   "execution_count": 24,
   "id": "5c45b761",
   "metadata": {},
   "outputs": [
    {
     "name": "stdout",
     "output_type": "stream",
     "text": [
      "Model: \"sequential\"\n",
      "_________________________________________________________________\n",
      " Layer (type)                Output Shape              Param #   \n",
      "=================================================================\n",
      " lstm (LSTM)                 (None, 60, 60)            14880     \n",
      "                                                                 \n",
      " dropout (Dropout)           (None, 60, 60)            0         \n",
      "                                                                 \n",
      " lstm_1 (LSTM)               (None, 60, 60)            29040     \n",
      "                                                                 \n",
      " dropout_1 (Dropout)         (None, 60, 60)            0         \n",
      "                                                                 \n",
      " lstm_2 (LSTM)               (None, 60, 80)            45120     \n",
      "                                                                 \n",
      " dropout_2 (Dropout)         (None, 60, 80)            0         \n",
      "                                                                 \n",
      " lstm_3 (LSTM)               (None, 120)               96480     \n",
      "                                                                 \n",
      " dropout_3 (Dropout)         (None, 120)               0         \n",
      "                                                                 \n",
      " dense (Dense)               (None, 1)                 121       \n",
      "                                                                 \n",
      "=================================================================\n",
      "Total params: 185,641\n",
      "Trainable params: 185,641\n",
      "Non-trainable params: 0\n",
      "_________________________________________________________________\n"
     ]
    }
   ],
   "source": [
    "model.summary()"
   ]
  },
  {
   "cell_type": "code",
   "execution_count": 25,
   "id": "2b806a68",
   "metadata": {},
   "outputs": [],
   "source": [
    "# compile the model\n",
    "model.compile(optimizer='adam', loss='mean_squared_error')"
   ]
  },
  {
   "cell_type": "code",
   "execution_count": 26,
   "id": "f9bdf474",
   "metadata": {
    "scrolled": true
   },
   "outputs": [
    {
     "name": "stdout",
     "output_type": "stream",
     "text": [
      "Epoch 1/100\n",
      "38/38 [==============================] - 7s 96ms/step - loss: 0.0579\n",
      "Epoch 2/100\n",
      "38/38 [==============================] - 4s 97ms/step - loss: 0.0088\n",
      "Epoch 3/100\n",
      "38/38 [==============================] - 5s 122ms/step - loss: 0.0067\n",
      "Epoch 4/100\n",
      "38/38 [==============================] - 5s 120ms/step - loss: 0.0071\n",
      "Epoch 5/100\n",
      "38/38 [==============================] - 5s 131ms/step - loss: 0.0057\n",
      "Epoch 6/100\n",
      "38/38 [==============================] - 4s 110ms/step - loss: 0.0060\n",
      "Epoch 7/100\n",
      "38/38 [==============================] - 4s 110ms/step - loss: 0.0056\n",
      "Epoch 8/100\n",
      "38/38 [==============================] - 4s 111ms/step - loss: 0.0047\n",
      "Epoch 9/100\n",
      "38/38 [==============================] - 4s 105ms/step - loss: 0.0046\n",
      "Epoch 10/100\n",
      "38/38 [==============================] - 4s 110ms/step - loss: 0.0050\n",
      "Epoch 11/100\n",
      "38/38 [==============================] - 4s 118ms/step - loss: 0.0044\n",
      "Epoch 12/100\n",
      "38/38 [==============================] - 4s 118ms/step - loss: 0.0042\n",
      "Epoch 13/100\n",
      "38/38 [==============================] - 5s 119ms/step - loss: 0.0044\n",
      "Epoch 14/100\n",
      "38/38 [==============================] - 4s 116ms/step - loss: 0.0040\n",
      "Epoch 15/100\n",
      "38/38 [==============================] - 4s 111ms/step - loss: 0.0037\n",
      "Epoch 16/100\n",
      "38/38 [==============================] - 4s 113ms/step - loss: 0.0040\n",
      "Epoch 17/100\n",
      "38/38 [==============================] - 4s 111ms/step - loss: 0.0035\n",
      "Epoch 18/100\n",
      "38/38 [==============================] - 4s 117ms/step - loss: 0.0039\n",
      "Epoch 19/100\n",
      "38/38 [==============================] - 4s 113ms/step - loss: 0.0035\n",
      "Epoch 20/100\n",
      "38/38 [==============================] - 4s 115ms/step - loss: 0.0036\n",
      "Epoch 21/100\n",
      "38/38 [==============================] - 4s 114ms/step - loss: 0.0030\n",
      "Epoch 22/100\n",
      "38/38 [==============================] - 4s 116ms/step - loss: 0.0039\n",
      "Epoch 23/100\n",
      "38/38 [==============================] - 4s 113ms/step - loss: 0.0032\n",
      "Epoch 24/100\n",
      "38/38 [==============================] - 4s 115ms/step - loss: 0.0028\n",
      "Epoch 25/100\n",
      "38/38 [==============================] - 5s 119ms/step - loss: 0.0028\n",
      "Epoch 26/100\n",
      "38/38 [==============================] - 4s 112ms/step - loss: 0.0030\n",
      "Epoch 27/100\n",
      "38/38 [==============================] - 4s 118ms/step - loss: 0.0029\n",
      "Epoch 28/100\n",
      "38/38 [==============================] - 4s 105ms/step - loss: 0.0034\n",
      "Epoch 29/100\n",
      "38/38 [==============================] - 4s 102ms/step - loss: 0.0028\n",
      "Epoch 30/100\n",
      "38/38 [==============================] - 4s 105ms/step - loss: 0.0030\n",
      "Epoch 31/100\n",
      "38/38 [==============================] - 4s 112ms/step - loss: 0.0028\n",
      "Epoch 32/100\n",
      "38/38 [==============================] - 4s 112ms/step - loss: 0.0029\n",
      "Epoch 33/100\n",
      "38/38 [==============================] - 4s 113ms/step - loss: 0.0029\n",
      "Epoch 34/100\n",
      "38/38 [==============================] - 4s 111ms/step - loss: 0.0030\n",
      "Epoch 35/100\n",
      "38/38 [==============================] - 5s 119ms/step - loss: 0.0025\n",
      "Epoch 36/100\n",
      "38/38 [==============================] - 5s 126ms/step - loss: 0.0027\n",
      "Epoch 37/100\n",
      "38/38 [==============================] - 4s 118ms/step - loss: 0.0030\n",
      "Epoch 38/100\n",
      "38/38 [==============================] - 4s 112ms/step - loss: 0.0030\n",
      "Epoch 39/100\n",
      "38/38 [==============================] - 4s 117ms/step - loss: 0.0023\n",
      "Epoch 40/100\n",
      "38/38 [==============================] - 4s 113ms/step - loss: 0.0025\n",
      "Epoch 41/100\n",
      "38/38 [==============================] - 4s 105ms/step - loss: 0.0023\n",
      "Epoch 42/100\n",
      "38/38 [==============================] - 4s 115ms/step - loss: 0.0024\n",
      "Epoch 43/100\n",
      "38/38 [==============================] - 4s 111ms/step - loss: 0.0025\n",
      "Epoch 44/100\n",
      "38/38 [==============================] - 4s 111ms/step - loss: 0.0023\n",
      "Epoch 45/100\n",
      "38/38 [==============================] - 5s 118ms/step - loss: 0.0022\n",
      "Epoch 46/100\n",
      "38/38 [==============================] - 4s 115ms/step - loss: 0.0025\n",
      "Epoch 47/100\n",
      "38/38 [==============================] - 4s 110ms/step - loss: 0.0029\n",
      "Epoch 48/100\n",
      "38/38 [==============================] - 5s 120ms/step - loss: 0.0025\n",
      "Epoch 49/100\n",
      "38/38 [==============================] - 5s 122ms/step - loss: 0.0022\n",
      "Epoch 50/100\n",
      "38/38 [==============================] - 4s 110ms/step - loss: 0.0023\n",
      "Epoch 51/100\n",
      "38/38 [==============================] - 5s 128ms/step - loss: 0.0022\n",
      "Epoch 52/100\n",
      "38/38 [==============================] - 5s 143ms/step - loss: 0.0021\n",
      "Epoch 53/100\n",
      "38/38 [==============================] - 5s 128ms/step - loss: 0.0023\n",
      "Epoch 54/100\n",
      "38/38 [==============================] - 5s 122ms/step - loss: 0.0023\n",
      "Epoch 55/100\n",
      "38/38 [==============================] - 4s 111ms/step - loss: 0.0019\n",
      "Epoch 56/100\n",
      "38/38 [==============================] - 5s 127ms/step - loss: 0.0018\n",
      "Epoch 57/100\n",
      "38/38 [==============================] - 5s 119ms/step - loss: 0.0021\n",
      "Epoch 58/100\n",
      "38/38 [==============================] - 4s 111ms/step - loss: 0.0019\n",
      "Epoch 59/100\n",
      "38/38 [==============================] - 5s 121ms/step - loss: 0.0021\n",
      "Epoch 60/100\n",
      "38/38 [==============================] - 5s 120ms/step - loss: 0.0021\n",
      "Epoch 61/100\n",
      "38/38 [==============================] - 4s 109ms/step - loss: 0.0022\n",
      "Epoch 62/100\n",
      "38/38 [==============================] - 4s 113ms/step - loss: 0.0021\n",
      "Epoch 63/100\n",
      "38/38 [==============================] - 4s 108ms/step - loss: 0.0020\n",
      "Epoch 64/100\n",
      "38/38 [==============================] - 4s 110ms/step - loss: 0.0019\n",
      "Epoch 65/100\n",
      "38/38 [==============================] - 4s 113ms/step - loss: 0.0019\n",
      "Epoch 66/100\n",
      "38/38 [==============================] - 4s 108ms/step - loss: 0.0017\n",
      "Epoch 67/100\n",
      "38/38 [==============================] - 4s 109ms/step - loss: 0.0019\n",
      "Epoch 68/100\n",
      "38/38 [==============================] - 4s 106ms/step - loss: 0.0018\n",
      "Epoch 69/100\n",
      "38/38 [==============================] - 4s 103ms/step - loss: 0.0019\n",
      "Epoch 70/100\n",
      "38/38 [==============================] - 4s 106ms/step - loss: 0.0024\n",
      "Epoch 71/100\n",
      "38/38 [==============================] - 4s 107ms/step - loss: 0.0021\n",
      "Epoch 72/100\n",
      "38/38 [==============================] - 4s 105ms/step - loss: 0.0018\n",
      "Epoch 73/100\n",
      "38/38 [==============================] - 4s 107ms/step - loss: 0.0019\n",
      "Epoch 74/100\n",
      "38/38 [==============================] - 4s 108ms/step - loss: 0.0021\n",
      "Epoch 75/100\n",
      "38/38 [==============================] - 4s 103ms/step - loss: 0.0018\n",
      "Epoch 76/100\n",
      "38/38 [==============================] - 4s 107ms/step - loss: 0.0018\n",
      "Epoch 77/100\n",
      "38/38 [==============================] - 4s 102ms/step - loss: 0.0018\n",
      "Epoch 78/100\n",
      "38/38 [==============================] - 4s 111ms/step - loss: 0.0018\n",
      "Epoch 79/100\n",
      "38/38 [==============================] - 5s 120ms/step - loss: 0.0019\n",
      "Epoch 80/100\n",
      "38/38 [==============================] - 4s 112ms/step - loss: 0.0017\n",
      "Epoch 81/100\n",
      "38/38 [==============================] - 4s 116ms/step - loss: 0.0017\n",
      "Epoch 82/100\n",
      "38/38 [==============================] - 5s 120ms/step - loss: 0.0018\n",
      "Epoch 83/100\n",
      "38/38 [==============================] - 4s 117ms/step - loss: 0.0017\n",
      "Epoch 84/100\n",
      "38/38 [==============================] - 4s 117ms/step - loss: 0.0017\n",
      "Epoch 85/100\n",
      "38/38 [==============================] - 4s 114ms/step - loss: 0.0017\n",
      "Epoch 86/100\n",
      "38/38 [==============================] - 4s 117ms/step - loss: 0.0017\n",
      "Epoch 87/100\n",
      "38/38 [==============================] - 4s 104ms/step - loss: 0.0020\n",
      "Epoch 88/100\n",
      "38/38 [==============================] - 4s 102ms/step - loss: 0.0018\n",
      "Epoch 89/100\n",
      "38/38 [==============================] - 4s 109ms/step - loss: 0.0017\n",
      "Epoch 90/100\n",
      "38/38 [==============================] - 4s 105ms/step - loss: 0.0017\n",
      "Epoch 91/100\n",
      "38/38 [==============================] - 4s 102ms/step - loss: 0.0017\n",
      "Epoch 92/100\n",
      "38/38 [==============================] - 4s 103ms/step - loss: 0.0019\n",
      "Epoch 93/100\n",
      "38/38 [==============================] - 4s 103ms/step - loss: 0.0017\n",
      "Epoch 94/100\n",
      "38/38 [==============================] - 4s 104ms/step - loss: 0.0018\n",
      "Epoch 95/100\n",
      "38/38 [==============================] - 4s 104ms/step - loss: 0.0016\n",
      "Epoch 96/100\n",
      "38/38 [==============================] - 4s 105ms/step - loss: 0.0016\n",
      "Epoch 97/100\n",
      "38/38 [==============================] - 4s 103ms/step - loss: 0.0015\n",
      "Epoch 98/100\n",
      "38/38 [==============================] - 4s 105ms/step - loss: 0.0017\n",
      "Epoch 99/100\n"
     ]
    },
    {
     "name": "stdout",
     "output_type": "stream",
     "text": [
      "38/38 [==============================] - 4s 111ms/step - loss: 0.0017\n",
      "Epoch 100/100\n",
      "38/38 [==============================] - 4s 114ms/step - loss: 0.0015\n"
     ]
    },
    {
     "data": {
      "text/plain": [
       "<keras.callbacks.History at 0x21778ea9d60>"
      ]
     },
     "execution_count": 26,
     "metadata": {},
     "output_type": "execute_result"
    }
   ],
   "source": [
    "model.fit(x_train, y_train, batch_size=32, epochs=100)"
   ]
  },
  {
   "cell_type": "code",
   "execution_count": 27,
   "id": "beae9485",
   "metadata": {},
   "outputs": [],
   "source": [
    "# getting the real stock prices of Last One Year\n",
    "test_data = pd.read_csv(r'E:\\Data Analytic\\Madhu Kiran Sir\\DeepLearning\\Tesla\\TSLA Testing.csv')"
   ]
  },
  {
   "cell_type": "code",
   "execution_count": 28,
   "id": "3ac8ba67",
   "metadata": {},
   "outputs": [
    {
     "data": {
      "text/plain": [
       "(251, 7)"
      ]
     },
     "execution_count": 28,
     "metadata": {},
     "output_type": "execute_result"
    }
   ],
   "source": [
    "test_data.shape"
   ]
  },
  {
   "cell_type": "code",
   "execution_count": 29,
   "id": "7133c6bb",
   "metadata": {},
   "outputs": [
    {
     "name": "stdout",
     "output_type": "stream",
     "text": [
      "<class 'pandas.core.frame.DataFrame'>\n",
      "RangeIndex: 251 entries, 0 to 250\n",
      "Data columns (total 7 columns):\n",
      " #   Column     Non-Null Count  Dtype  \n",
      "---  ------     --------------  -----  \n",
      " 0   Date       251 non-null    object \n",
      " 1   Open       251 non-null    float64\n",
      " 2   High       251 non-null    float64\n",
      " 3   Low        251 non-null    float64\n",
      " 4   Close      251 non-null    float64\n",
      " 5   Adj Close  251 non-null    float64\n",
      " 6   Volume     251 non-null    int64  \n",
      "dtypes: float64(5), int64(1), object(1)\n",
      "memory usage: 13.9+ KB\n"
     ]
    }
   ],
   "source": [
    "test_data.info()"
   ]
  },
  {
   "cell_type": "code",
   "execution_count": 30,
   "id": "98afbbde",
   "metadata": {},
   "outputs": [],
   "source": [
    "real_stock_price = test_data.iloc[:, 1:2].values"
   ]
  },
  {
   "cell_type": "code",
   "execution_count": 31,
   "id": "4032099f",
   "metadata": {},
   "outputs": [
    {
     "data": {
      "text/plain": [
       "(251, 1)"
      ]
     },
     "execution_count": 31,
     "metadata": {},
     "output_type": "execute_result"
    }
   ],
   "source": [
    "real_stock_price.shape"
   ]
  },
  {
   "cell_type": "code",
   "execution_count": 32,
   "id": "2c5ab3ac",
   "metadata": {},
   "outputs": [
    {
     "name": "stdout",
     "output_type": "stream",
     "text": [
      "8/8 [==============================] - 1s 25ms/step\n"
     ]
    }
   ],
   "source": [
    "# Getting predicted stock prices of Last One Year from 22-06-2022 to 22-06-2023\n",
    "\n",
    "# concatination\n",
    "dataset_total = pd.concat((training_data['Open'], test_data['Open']), axis = 0)\n",
    "\n",
    "# stock prices of previous 60 days for each day\n",
    "inputs = dataset_total[len(dataset_total) - len(test_data) - 60:].values\n",
    "\n",
    "# reshape (convert into numpy array)\n",
    "inputs = inputs.reshape(-1,1)\n",
    "\n",
    "# feature scaling\n",
    "inputs = sc.transform(inputs)\n",
    "\n",
    "# creating a test set\n",
    "\n",
    "x_test = []\n",
    "for i in range(60, 310):\n",
    "  x_test.append(inputs[i-60:i, 0])\n",
    "\n",
    "# convert in numpy array\n",
    "x_test = np.array(x_test)\n",
    "\n",
    "# convert in 3D (required to process)\n",
    "x_test = np.reshape(x_test, (x_test.shape[0], x_test.shape[1], 1))\n",
    "\n",
    "# getting predicted stock prices\n",
    "predicted_stock_price = model.predict(x_test)\n",
    "predicted_stock_price = sc.inverse_transform(predicted_stock_price)"
   ]
  },
  {
   "cell_type": "code",
   "execution_count": 33,
   "id": "090bdf98",
   "metadata": {},
   "outputs": [
    {
     "name": "stdout",
     "output_type": "stream",
     "text": [
      "[244.13742]\n",
      "[230.5]\n"
     ]
    },
    {
     "data": {
      "text/plain": [
       "(None, None)"
      ]
     },
     "execution_count": 33,
     "metadata": {},
     "output_type": "execute_result"
    }
   ],
   "source": [
    "print(predicted_stock_price[5]), print(real_stock_price[5])"
   ]
  },
  {
   "cell_type": "code",
   "execution_count": 34,
   "id": "f2b4cccc",
   "metadata": {},
   "outputs": [
    {
     "data": {
      "image/png": "[encoded data removed]",
      "text/plain": [
       "<Figure size 432x288 with 1 Axes>"
      ]
     },
     "metadata": {
      "needs_background": "light"
     },
     "output_type": "display_data"
    }
   ],
   "source": [
    "# Visualising the results\n",
    "plt.plot(real_stock_price, color='red', label='Real Tesla Inc. Stock Price')\n",
    "plt.plot(predicted_stock_price, color='blue', label='Predicted Tesla Inc. Stock Price')\n",
    "plt.title('Tesla Inc. Stock Price Prediction')\n",
    "plt.xlabel('Time')\n",
    "plt.ylabel('Tesla Inc. Stock Price')\n",
    "plt.legend()\n",
    "plt.show()"
   ]
  },
  {
   "cell_type": "code",
   "execution_count": null,
   "id": "c593bb9c",
   "metadata": {},
   "outputs": [],
   "source": []
  },
  {
   "cell_type": "code",
   "execution_count": null,
   "id": "f33ad962",
   "metadata": {},
   "outputs": [],
   "source": []
  },
  {
   "cell_type": "code",
   "execution_count": null,
   "id": "c8d4af66",
   "metadata": {},
   "outputs": [],
   "source": []
  }
 ],
 "metadata": {
  "kernelspec": {
   "display_name": "Python 3 (ipykernel)",
   "language": "python",
   "name": "python3"
  },
  "language_info": {
   "codemirror_mode": {
    "name": "ipython",
    "version": 3
   },
   "file_extension": ".py",
   "mimetype": "text/x-python",
   "name": "python",
   "nbconvert_exporter": "python",
   "pygments_lexer": "ipython3",
   "version": "3.9.7"
  }
 },
 "nbformat": 4,
 "nbformat_minor": 5
}
